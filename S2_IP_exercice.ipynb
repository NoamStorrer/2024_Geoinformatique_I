{
  "cells": [
    {
      "cell_type": "markdown",
      "metadata": {
        "id": "view-in-github",
        "colab_type": "text"
      },
      "source": [
        "<a href=\"https://colab.research.google.com/github/NoamStorrer/2024_Geoinformatique_I/blob/main/S2_IP_exercice.ipynb\" target=\"_parent\"><img src=\"https://colab.research.google.com/assets/colab-badge.svg\" alt=\"Open In Colab\"/></a>"
      ]
    },
    {
      "cell_type": "markdown",
      "metadata": {
        "id": "ZXnjONpwCaJ5"
      },
      "source": [
        "# Exercice 2 - Structure de contrôle"
      ]
    },
    {
      "cell_type": "markdown",
      "metadata": {
        "id": "OyMIBjQrCaJ6"
      },
      "source": [
        "## Conditions if, else, elif"
      ]
    },
    {
      "cell_type": "markdown",
      "metadata": {
        "id": "caKuJ59zjW39"
      },
      "source": [
        "**1. Vérification de la parité**"
      ]
    },
    {
      "cell_type": "code",
      "execution_count": null,
      "metadata": {
        "id": "wkrwV1yvjW3-",
        "outputId": "1affbe71-95f0-455b-be72-54f6fb537553",
        "colab": {
          "base_uri": "https://localhost:8080/"
        }
      },
      "outputs": [
        {
          "output_type": "stream",
          "name": "stdout",
          "text": [
            "Pair\n"
          ]
        }
      ],
      "source": [
        "# Ecrivez votre code ici\n",
        "nombre = 3.0  #Entrez un nombre entier\n",
        "\n",
        "if 15 % 2 == 1 :\n",
        "    print(\"Pair\")\n",
        "else:\n",
        "    print(\"Impaire\")"
      ]
    },
    {
      "cell_type": "markdown",
      "metadata": {
        "id": "b1goU-5bjW3_"
      },
      "source": [
        "**2. Comparaison de deux nombres**"
      ]
    },
    {
      "cell_type": "code",
      "execution_count": null,
      "metadata": {
        "id": "SkjaBcb-jW3_",
        "outputId": "7d605364-95ff-45ae-ba7c-ff81f4897a67",
        "colab": {
          "base_uri": "https://localhost:8080/"
        }
      },
      "outputs": [
        {
          "output_type": "stream",
          "name": "stdout",
          "text": [
            "Le deuxième nombre est plus grand.\n"
          ]
        }
      ],
      "source": [
        "nombre1 = 9.5 #Entrez un chiffre à virgule\n",
        "nombre2 = 4.3 #Entrez un deuxième chiffre à virgule\n",
        "\n",
        "if nombre2 > nombre1:\n",
        "    print(\"Le premier nombre est plus grand.\")\n",
        "elif nombre1>nombre2:\n",
        "    print(\"Le deuxième nombre est plus grand.\")\n",
        "else:\n",
        "    print(\"Les deux nombres sont égaux\")"
      ]
    },
    {
      "cell_type": "markdown",
      "metadata": {
        "id": "gkNLNNSNjW3_"
      },
      "source": [
        "**3. Catégorisation d'âges**"
      ]
    },
    {
      "cell_type": "code",
      "execution_count": null,
      "metadata": {
        "id": "h1AnFjiKjW4A",
        "outputId": "13da1730-3ee5-4d69-befc-81bca85988af",
        "colab": {
          "base_uri": "https://localhost:8080/",
          "height": 217
        }
      },
      "outputs": [
        {
          "output_type": "error",
          "ename": "NameError",
          "evalue": "name '__age__' is not defined",
          "traceback": [
            "\u001b[0;31m---------------------------------------------------------------------------\u001b[0m",
            "\u001b[0;31mNameError\u001b[0m                                 Traceback (most recent call last)",
            "\u001b[0;32m<ipython-input-33-f63bbee624ce>\u001b[0m in \u001b[0;36m<cell line: 2>\u001b[0;34m()\u001b[0m\n\u001b[1;32m      4\u001b[0m \u001b[0;32melif\u001b[0m \u001b[0;36m12\u001b[0m \u001b[0;34m<=\u001b[0m \u001b[0mage\u001b[0m \u001b[0;34m<\u001b[0m \u001b[0;36m18\u001b[0m\u001b[0;34m:\u001b[0m\u001b[0;34m\u001b[0m\u001b[0;34m\u001b[0m\u001b[0m\n\u001b[1;32m      5\u001b[0m     \u001b[0mprint\u001b[0m\u001b[0;34m(\u001b[0m\u001b[0;34m\"Adolescent\"\u001b[0m\u001b[0;34m)\u001b[0m\u001b[0;34m\u001b[0m\u001b[0;34m\u001b[0m\u001b[0m\n\u001b[0;32m----> 6\u001b[0;31m \u001b[0;32melif\u001b[0m \u001b[0;36m18\u001b[0m \u001b[0;34m<=\u001b[0m \u001b[0m__age__\u001b[0m \u001b[0;34m<\u001b[0m \u001b[0;36m65\u001b[0m\u001b[0;34m:\u001b[0m\u001b[0;34m\u001b[0m\u001b[0;34m\u001b[0m\u001b[0m\n\u001b[0m\u001b[1;32m      7\u001b[0m     \u001b[0mprint\u001b[0m\u001b[0;34m(\u001b[0m\u001b[0;34m\"Adulte\"\u001b[0m\u001b[0;34m)\u001b[0m\u001b[0;34m\u001b[0m\u001b[0;34m\u001b[0m\u001b[0m\n\u001b[1;32m      8\u001b[0m \u001b[0;32melse\u001b[0m\u001b[0;34m:\u001b[0m\u001b[0;34m\u001b[0m\u001b[0;34m\u001b[0m\u001b[0m\n",
            "\u001b[0;31mNameError\u001b[0m: name '__age__' is not defined"
          ]
        }
      ],
      "source": [
        "age = 34 # Entrez un nombre entier\n",
        "if age < 12:\n",
        "    print(\"Enfant\")\n",
        "elif 12 <= age < 18:\n",
        "    print(\"Adolescent\")\n",
        "elif 18 <= age< 65:\n",
        "    print(\"Adulte\")\n",
        "else:\n",
        "    print(\"Senior\")\n"
      ]
    },
    {
      "cell_type": "markdown",
      "metadata": {
        "id": "agjI6dl_CaJ7"
      },
      "source": [
        "## Boucle for et while"
      ]
    },
    {
      "cell_type": "markdown",
      "metadata": {
        "id": "jbGswyVvjW4A"
      },
      "source": [
        "**1. Ecrire une boucle `while` pour afficher les valeurs des classements d'une liste de lecture d'albums stockée dans la liste <code>PlayListRatings</code>. Si le score est inférieur à 6, on sort de la boucle. La liste <code>PlayListRatings</code> est donnée par : <code>PlayListRatings = [10, 9.5, 10, 8, 7.5, 5, 10, 10]</code>**"
      ]
    },
    {
      "cell_type": "code",
      "execution_count": null,
      "metadata": {
        "id": "ploHyFu2jW4A"
      },
      "outputs": [],
      "source": [
        "# Ecrivez votre code ici\n",
        "PlayListRating = [10, 9.5, 10, 8, 7.5, 5, 10, 10]\n",
        "\n",
        "# Astuce : Utilisez l'indexation de la liste comme critère (longueur de votre liste)\n",
        "indx = 0\n",
        "while playListRating<len(7):\n",
        "  if range[]<6:\n",
        "    ____\n",
        "  else:\n",
        "    print(_________[____])\n",
        "  ____+=1"
      ]
    },
    {
      "cell_type": "markdown",
      "metadata": {
        "id": "WHXaD4_3jW4A"
      },
      "source": [
        "**2. Répétez ce que vous venez de faire, cette fois en utilisant une boucle `for`**."
      ]
    },
    {
      "cell_type": "code",
      "execution_count": null,
      "metadata": {
        "id": "CIgtC_4zjW4A"
      },
      "outputs": [],
      "source": [
        "for ____ in range(len(______________)):\n",
        "  if _____________[____]<6:\n",
        "    ____\n",
        "  else:\n",
        "    print(_____________[____])"
      ]
    },
    {
      "cell_type": "markdown",
      "metadata": {
        "id": "VZQhdaf5jW4B"
      },
      "source": [
        "**3. Ecrivez une boucle `for` qui imprime (affiche) la liste suivante : <code>carres=['rouge', 'jaune', 'vert', 'violet', 'bleu']</code>**"
      ]
    },
    {
      "cell_type": "code",
      "execution_count": null,
      "metadata": {
        "id": "kh8TmInPjW4B"
      },
      "outputs": [],
      "source": [
        "carres = [] # An empty list\n",
        "for ___,___ in enumerate([_____________________]):\n",
        "  carres.append(___) # Here you add (append) the elements one by one to the empty list\n",
        "\n",
        "print(carres)"
      ]
    }
  ],
  "metadata": {
    "colab": {
      "provenance": [],
      "include_colab_link": true
    },
    "kernelspec": {
      "display_name": "imports_TM",
      "language": "python",
      "name": "python3"
    },
    "language_info": {
      "name": "python",
      "version": "3.9.18"
    }
  },
  "nbformat": 4,
  "nbformat_minor": 0
}